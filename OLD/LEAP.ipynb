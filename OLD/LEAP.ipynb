{
  "nbformat": 4,
  "nbformat_minor": 0,
  "metadata": {
    "colab": {
      "provenance": []
    },
    "kernelspec": {
      "name": "python3",
      "display_name": "Python 3"
    },
    "language_info": {
      "name": "python"
    }
  },
  "cells": [
    {
      "cell_type": "code",
      "execution_count": 2,
      "metadata": {
        "colab": {
          "base_uri": "https://localhost:8080/"
        },
        "id": "rdx7BAxDtZvo",
        "outputId": "35dac802-de8c-44fb-9a5c-0c43460367dd"
      },
      "outputs": [
        {
          "output_type": "stream",
          "name": "stdout",
          "text": [
            "Total number of SPX LEAP options: 1364\n",
            "Available expiration dates for LEAP options:\n",
            "  - 2025-09-19\n",
            "  - 2025-12-19\n",
            "  - 2026-01-16\n",
            "  - 2026-03-20\n",
            "  - 2026-06-18\n",
            "  - 2026-12-18\n",
            "  - 2027-12-17\n",
            "  - 2028-12-15\n",
            "  - 2029-12-21\n",
            "\n",
            "Sample of the data:\n",
            "       contractSymbol expirationDate  type  strike  lastPrice  volume  \\\n",
            "0  SPX250919C00200000     2025-09-19  call   200.0    5080.30     NaN   \n",
            "1  SPX250919C00400000     2025-09-19  call   400.0    4891.60     NaN   \n",
            "2  SPX250919C01600000     2025-09-19  call  1600.0    4015.81     1.0   \n",
            "3  SPX250919C04000000     2025-09-19  call  4000.0    1499.81    10.0   \n",
            "4  SPX250919C04600000     2025-09-19  call  4600.0    1183.66     1.0   \n",
            "\n",
            "   openInterest  \n",
            "0           2.0  \n",
            "1           1.0  \n",
            "2           0.0  \n",
            "3          10.0  \n",
            "4           0.0  \n"
          ]
        }
      ],
      "source": [
        "import yfinance as yf\n",
        "import pandas as pd\n",
        "from datetime import datetime, timedelta\n",
        "\n",
        "ticker = \"^SPX\"\n",
        "\n",
        "spx = yf.Ticker(ticker)\n",
        "\n",
        "exp_dates = spx.options\n",
        "\n",
        "# Filter for LEAP options (typically more than 12 months out)\n",
        "today = datetime.now()\n",
        "leap_dates = [date for date in exp_dates if (datetime.strptime(date, \"%Y-%m-%d\") - today).days > 361]\n",
        "\n",
        "all_options = pd.DataFrame()\n",
        "\n",
        "for date in leap_dates:\n",
        "    # Fetch both calls and puts\n",
        "    calls = spx.option_chain(date).calls\n",
        "    puts = spx.option_chain(date).puts\n",
        "    calls['expirationDate'] = date\n",
        "    puts['expirationDate'] = date\n",
        "    calls['type'] = 'call'\n",
        "    puts['type'] = 'put'\n",
        "\n",
        "    # Combine calls and puts\n",
        "    options = pd.concat([calls, puts])\n",
        "\n",
        "    all_options = pd.concat([all_options, options])\n",
        "\n",
        "all_options.reset_index(drop=True, inplace=True)\n",
        "\n",
        "print(f\"Total number of SPX LEAP options: {len(all_options)}\")\n",
        "print(f\"Available expiration dates for LEAP options:\")\n",
        "for date in leap_dates:\n",
        "    print(f\"  - {date}\")\n",
        "\n",
        "print(\"\\nSample of the data:\")\n",
        "print(all_options[['contractSymbol', 'expirationDate', 'type', 'strike', 'lastPrice', 'volume', 'openInterest']].head())\n",
        "\n",
        "# all_options.to_csv(\"spx_leap_options.csv\", index=False)"
      ]
    }
  ]
}