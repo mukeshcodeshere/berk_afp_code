{
 "cells": [
  {
   "cell_type": "code",
   "execution_count": 1,
   "metadata": {},
   "outputs": [],
   "source": [
    "import sqlite3\n",
    "import pandas as pd\n",
    "import numpy as np\n",
    "import matplotlib.pyplot as plt\n",
    "import seaborn as sns\n",
    "from scipy import stats\n",
    "from statsmodels.tsa.stattools import adfuller\n",
    "\n",
    "# Step 1: Create or connect to the SQLite database (it will open if it already exists)\n",
    "conn = sqlite3.connect('1_financial_data.db')  # Connect to the existing SQLite database\n",
    "\n",
    "# Step 2: Load the data from the SQLite database into pandas DataFrames\n",
    "\n",
    "# Load equities_data from the 'equities_data' table\n",
    "equities_data = pd.read_sql('SELECT * FROM equities_data', conn)\n",
    "\n",
    "# Load volume_threshold_options_data from the 'volume_threshold_options_data' table\n",
    "volume_threshold_options_data = pd.read_sql('SELECT * FROM volume_threshold_options_data', conn)\n",
    "\n",
    "# Load merged_data from the 'merged_data' table\n",
    "merged_data = pd.read_sql('SELECT * FROM merged_data', conn)\n",
    "\n",
    "# Step 3: Close the connection\n",
    "conn.close()\n",
    "\n",
    "\n",
    "# #INPUT DATA FROM 1_clean_download_data.ipynb\n",
    "\n",
    "# # Define the dates\n",
    "# start_year = 2020\n",
    "# start_month = 1\n",
    "# start_day = 1\n",
    "\n",
    "# end_year = 2023\n",
    "# end_month = 12\n",
    "# end_day = 30"
   ]
  },
  {
   "cell_type": "code",
   "execution_count": 6,
   "metadata": {},
   "outputs": [
    {
     "name": "stdout",
     "output_type": "stream",
     "text": [
      "Equities Data:\n",
      "   permno     cusip                 date    bid    ask       vol   shrout  \\\n",
      "0   10200  75991610  2020-01-02 00:00:00  93.72  93.78  313953.0  52078.0   \n",
      "1   10200  75991610  2020-01-03 00:00:00  92.74  92.78  246742.0  52078.0   \n",
      "2   10200  75991610  2020-01-06 00:00:00  93.89  93.90  380649.0  52078.0   \n",
      "\n",
      "      prc      mktcap  \n",
      "0  93.780  4883874.84  \n",
      "1  92.740  4829713.72  \n",
      "2  93.895  4889863.81  \n"
     ]
    }
   ],
   "source": [
    "# Optional: Print the data to verify\n",
    "print(\"Equities Data:\")\n",
    "print(equities_data.head(3))"
   ]
  },
  {
   "cell_type": "code",
   "execution_count": 7,
   "metadata": {},
   "outputs": [
    {
     "name": "stdout",
     "output_type": "stream",
     "text": [
      "\n",
      "Volume Threshold Options Data:\n",
      "                  date ticker      exdate cp_flag  strike_price  \\\n",
      "0  2020-01-02 00:00:00   ABEO  2020-01-17       C        2500.0   \n",
      "1  2020-01-02 00:00:00   ABEO  2020-01-17       P        2500.0   \n",
      "2  2020-01-02 00:00:00   ABEO  2020-01-17       C        5000.0   \n",
      "\n",
      "   strike_price_actual  best_bid  best_offer  volume  open_interest  \\\n",
      "0                 0.25      0.50        1.00    87.0         1661.0   \n",
      "1                 0.25      0.05        0.15    16.0          760.0   \n",
      "2                 0.50      0.05        0.10    40.0         2994.0   \n",
      "\n",
      "   impl_volatility     delta     gamma      vega     theta  permno  \n",
      "0         1.076193  0.895771  0.258311  0.117540 -1.576614   87656  \n",
      "1         1.509266 -0.165591  0.253322  0.161895 -2.962448   87656  \n",
      "2         1.773509  0.146708  0.199077  0.149495 -3.232589   87656  \n"
     ]
    }
   ],
   "source": [
    "print(\"\\nVolume Threshold Options Data:\")\n",
    "print(volume_threshold_options_data.head(3))"
   ]
  },
  {
   "cell_type": "code",
   "execution_count": 8,
   "metadata": {},
   "outputs": [
    {
     "name": "stdout",
     "output_type": "stream",
     "text": [
      "\n",
      "Merged Data:\n",
      "   permno     cusip                 date    bid    ask       vol   shrout  \\\n",
      "0   10200  75991610  2020-01-02 00:00:00  93.72  93.78  313953.0  52078.0   \n",
      "1   10200  75991610  2020-01-02 00:00:00  93.72  93.78  313953.0  52078.0   \n",
      "2   10200  75991610  2020-01-02 00:00:00  93.72  93.78  313953.0  52078.0   \n",
      "\n",
      "     prc      mktcap ticker  ... strike_price_actual best_bid  best_offer  \\\n",
      "0  93.78  4883874.84   RGEN  ...                 9.5     1.40        1.75   \n",
      "1  93.78  4883874.84   RGEN  ...                 7.5     0.25        0.40   \n",
      "2  93.78  4883874.84   RGEN  ...                 8.0    13.00       14.80   \n",
      "\n",
      "   volume  open_interest  impl_volatility     delta     gamma      vega  \\\n",
      "0     2.0           98.0         0.310298  0.396742  0.067700  7.253972   \n",
      "1    10.0          528.0         0.390420 -0.053629  0.008045  3.776815   \n",
      "2     2.0          377.0         0.270031  0.953724  0.012104  3.225182   \n",
      "\n",
      "       theta  \n",
      "0 -22.242290  \n",
      "1  -5.439961  \n",
      "2  -2.681417  \n",
      "\n",
      "[3 rows x 23 columns]\n"
     ]
    }
   ],
   "source": [
    "print(\"\\nMerged Data:\")\n",
    "print(merged_data.head(3))"
   ]
  }
 ],
 "metadata": {
  "kernelspec": {
   "display_name": "HW2",
   "language": "python",
   "name": "python3"
  },
  "language_info": {
   "codemirror_mode": {
    "name": "ipython",
    "version": 3
   },
   "file_extension": ".py",
   "mimetype": "text/x-python",
   "name": "python",
   "nbconvert_exporter": "python",
   "pygments_lexer": "ipython3",
   "version": "3.12.3"
  }
 },
 "nbformat": 4,
 "nbformat_minor": 2
}
